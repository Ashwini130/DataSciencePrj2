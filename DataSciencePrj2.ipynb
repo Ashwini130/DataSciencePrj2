{
 "cells": [
  {
   "cell_type": "markdown",
   "metadata": {},
   "source": [
    "# In this project we explore the Hacker News Posts. \n",
    "\n",
    "- We aim to analyse the number of ask HN and show HN posts on the Hacker News Website. \n",
    "\n",
    "Steps:\n",
    "\n",
    "1. Determine which type of posts are higher in number.(Ask/Show)\n",
    "2. Determine what time of the dayDetermine if posts created at a certain time are more likely to receive more points.\n",
    "3. Compare your results to the average number of comments and points other posts receive."
   ]
  },
  {
   "cell_type": "markdown",
   "metadata": {},
   "source": [
    "In the code below, we read the haker news data from a csv file in a list of lists format"
   ]
  },
  {
   "cell_type": "code",
   "execution_count": 2,
   "metadata": {
    "collapsed": false
   },
   "outputs": [],
   "source": [
    "from csv import reader\n",
    "\n",
    "opened_file = open(\"hacker_news.csv\")\n",
    "read_file = reader(opened_file)\n",
    "hn = list(read_file)"
   ]
  },
  {
   "cell_type": "code",
   "execution_count": 3,
   "metadata": {
    "collapsed": false
   },
   "outputs": [
    {
     "name": "stdout",
     "output_type": "stream",
     "text": [
      "[['id', 'title', 'url', 'num_points', 'num_comments', 'author', 'created_at'], ['12224879', 'Interactive Dynamic Video', 'http://www.interactivedynamicvideo.com/', '386', '52', 'ne0phyte', '8/4/2016 11:52'], ['10975351', 'How to Use Open Source and Shut the Fuck Up at the Same Time', 'http://hueniverse.com/2016/01/26/how-to-use-open-source-and-shut-the-fuck-up-at-the-same-time/', '39', '10', 'josep2', '1/26/2016 19:30'], ['11964716', \"Florida DJs May Face Felony for April Fools' Water Joke\", 'http://www.thewire.com/entertainment/2013/04/florida-djs-april-fools-water-joke/63798/', '2', '1', 'vezycash', '6/23/2016 22:20'], ['11919867', 'Technology ventures: From Idea to Enterprise', 'https://www.amazon.com/Technology-Ventures-Enterprise-Thomas-Byers/dp/0073523429', '3', '1', 'hswarna', '6/17/2016 0:01']]\n"
     ]
    }
   ],
   "source": [
    "print(hn[:5])"
   ]
  },
  {
   "cell_type": "markdown",
   "metadata": {},
   "source": [
    "- Here we separate the header and actual data"
   ]
  },
  {
   "cell_type": "code",
   "execution_count": 4,
   "metadata": {
    "collapsed": false
   },
   "outputs": [
    {
     "name": "stdout",
     "output_type": "stream",
     "text": [
      "['id', 'title', 'url', 'num_points', 'num_comments', 'author', 'created_at']\n",
      "[['12224879', 'Interactive Dynamic Video', 'http://www.interactivedynamicvideo.com/', '386', '52', 'ne0phyte', '8/4/2016 11:52'], ['10975351', 'How to Use Open Source and Shut the Fuck Up at the Same Time', 'http://hueniverse.com/2016/01/26/how-to-use-open-source-and-shut-the-fuck-up-at-the-same-time/', '39', '10', 'josep2', '1/26/2016 19:30'], ['11964716', \"Florida DJs May Face Felony for April Fools' Water Joke\", 'http://www.thewire.com/entertainment/2013/04/florida-djs-april-fools-water-joke/63798/', '2', '1', 'vezycash', '6/23/2016 22:20'], ['11919867', 'Technology ventures: From Idea to Enterprise', 'https://www.amazon.com/Technology-Ventures-Enterprise-Thomas-Byers/dp/0073523429', '3', '1', 'hswarna', '6/17/2016 0:01'], ['10301696', 'Note by Note: The Making of Steinway L1037 (2007)', 'http://www.nytimes.com/2007/11/07/movies/07stein.html?_r=0', '8', '2', 'walterbell', '9/30/2015 4:12']]\n"
     ]
    }
   ],
   "source": [
    "headers = hn[0]\n",
    "hn= hn[1:]\n",
    "print(headers)\n",
    "print(hn[:5])"
   ]
  },
  {
   "cell_type": "markdown",
   "metadata": {},
   "source": [
    "- In this part we separate ask posts and show posts in two different list\n"
   ]
  },
  {
   "cell_type": "code",
   "execution_count": 5,
   "metadata": {
    "collapsed": false
   },
   "outputs": [
    {
     "name": "stdout",
     "output_type": "stream",
     "text": [
      "1744\n",
      "1162\n",
      "17194\n"
     ]
    }
   ],
   "source": [
    "ask_posts = []\n",
    "show_posts = []\n",
    "other_posts = []\n",
    "\n",
    "for each in hn:\n",
    "    title =each[1]\n",
    "    title = title.lower()\n",
    "    if (title.startswith(\"ask hn\")):\n",
    "        ask_posts.append(each)\n",
    "    elif(title.startswith(\"show hn\")):\n",
    "        show_posts.append(each)\n",
    "    else:\n",
    "        other_posts.append(each)\n",
    "        \n",
    "print(len(ask_posts))\n",
    "print(len(show_posts))\n",
    "print(len(other_posts))"
   ]
  },
  {
   "cell_type": "markdown",
   "metadata": {},
   "source": [
    "- Below we calculate which type of posts get higher average number of comments."
   ]
  },
  {
   "cell_type": "code",
   "execution_count": 6,
   "metadata": {
    "collapsed": false
   },
   "outputs": [
    {
     "name": "stdout",
     "output_type": "stream",
     "text": [
      "14.038417431192661\n",
      "10.31669535283993\n"
     ]
    }
   ],
   "source": [
    "total_ask_comments = 0\n",
    "total_show_comments=0\n",
    "for each in ask_posts:\n",
    "    num_comm = float(each[4])\n",
    "    total_ask_comments +=num_comm\n",
    "    \n",
    "avg_ask_comments = total_ask_comments / len(ask_posts)\n",
    "print(avg_ask_comments)\n",
    "\n",
    "for each in show_posts:\n",
    "    num_comm = float(each[4])\n",
    "    total_show_comments +=num_comm\n",
    "    \n",
    "avg_show_comments = total_show_comments / len(show_posts)\n",
    "print(avg_show_comments)\n",
    "    \n",
    "    "
   ]
  },
  {
   "cell_type": "markdown",
   "metadata": {},
   "source": [
    "### Below we calculate number of posts and number of comments in different hours of the day\n",
    "\n",
    "###### counts_by_hour: contains the number of ask posts created during each hour of the day.\n",
    "\n",
    "###### comments_by_hour: contains the corresponding number of comments ask posts created at each hour received."
   ]
  },
  {
   "cell_type": "code",
   "execution_count": 7,
   "metadata": {
    "collapsed": false
   },
   "outputs": [
    {
     "name": "stdout",
     "output_type": "stream",
     "text": [
      "No. of ask posts created in the respective hours:\n",
      " {'06': 44, '02': 58, '23': 68, '09': 45, '12': 73, '18': 109, '00': 55, '14': 107, '01': 60, '03': 54, '13': 85, '08': 48, '05': 46, '04': 47, '20': 80, '16': 108, '22': 71, '21': 109, '19': 110, '07': 34, '10': 59, '15': 116, '17': 100, '11': 58}\n",
      "\n",
      "\n",
      "No.of comments on posts in respective hours:\n",
      " {'06': 397.0, '02': 1381.0, '23': 543.0, '09': 251.0, '12': 687.0, '18': 1439.0, '00': 447.0, '14': 1416.0, '01': 683.0, '03': 421.0, '13': 1253.0, '08': 492.0, '05': 464.0, '04': 337.0, '20': 1722.0, '16': 1814.0, '22': 479.0, '21': 1745.0, '19': 1188.0, '07': 267.0, '10': 793.0, '15': 4477.0, '17': 1146.0, '11': 641.0}\n"
     ]
    }
   ],
   "source": [
    "import datetime as dt\n",
    "\n",
    "result_list = []\n",
    "for each in ask_posts:\n",
    "    created_at = each[6]\n",
    "    num_comm = float(each[4])\n",
    "    result_list.append([created_at,num_comm])\n",
    "\n",
    "counts_by_hour = {}\n",
    "comments_by_hour = {}\n",
    "\n",
    "for each in result_list:\n",
    "    date =  each[0]\n",
    "   \n",
    "    dt_obj = dt.datetime.strptime(date,\"%m/%d/%Y %H:%M\")\n",
    "    hour = dt_obj.strftime(\"%H\")\n",
    "    if hour not in counts_by_hour:\n",
    "        counts_by_hour[hour] = 1\n",
    "        comments_by_hour[hour] = each[1]\n",
    "    else:\n",
    "        counts_by_hour[hour] += 1\n",
    "        comments_by_hour[hour] += each[1]\n",
    "        \n",
    "print('No. of ask posts created in the respective hours:\\n',counts_by_hour)\n",
    "print(\"\\n\")\n",
    "print('No.of comments on posts in respective hours:\\n',comments_by_hour)\n",
    "   \n",
    "    "
   ]
  },
  {
   "cell_type": "code",
   "execution_count": 8,
   "metadata": {
    "collapsed": false
   },
   "outputs": [
    {
     "name": "stdout",
     "output_type": "stream",
     "text": [
      "Average Number of comments per post for posts created during different hours of the day\n",
      " [['06', 9.022727272727273], ['02', 23.810344827586206], ['23', 7.985294117647059], ['09', 5.5777777777777775], ['12', 9.41095890410959], ['18', 13.20183486238532], ['00', 8.127272727272727], ['14', 13.233644859813085], ['01', 11.383333333333333], ['03', 7.796296296296297], ['13', 14.741176470588234], ['08', 10.25], ['05', 10.08695652173913], ['04', 7.170212765957447], ['20', 21.525], ['16', 16.796296296296298], ['22', 6.746478873239437], ['21', 16.009174311926607], ['19', 10.8], ['07', 7.852941176470588], ['10', 13.440677966101696], ['15', 38.5948275862069], ['17', 11.46], ['11', 11.051724137931034]]\n"
     ]
    }
   ],
   "source": [
    "avg_by_hour = []\n",
    "\n",
    "\n",
    "\n",
    "for each in counts_by_hour:\n",
    "    avg = comments_by_hour[each]/counts_by_hour[each]\n",
    "    avg_by_hour.append([each,avg])\n",
    "    \n",
    "print('Average Number of comments per post for posts created during different hours of the day:\\n',avg_by_hour)"
   ]
  },
  {
   "cell_type": "markdown",
   "metadata": {},
   "source": [
    "- Here we sort the list by average number of comments for Ask HN Posts by Hour."
   ]
  },
  {
   "cell_type": "code",
   "execution_count": 9,
   "metadata": {
    "collapsed": false
   },
   "outputs": [
    {
     "name": "stdout",
     "output_type": "stream",
     "text": [
      "[[38.5948275862069, '15'], [23.810344827586206, '02'], [21.525, '20'], [16.796296296296298, '16'], [16.009174311926607, '21'], [14.741176470588234, '13'], [13.440677966101696, '10'], [13.233644859813085, '14'], [13.20183486238532, '18'], [11.46, '17'], [11.383333333333333, '01'], [11.051724137931034, '11'], [10.8, '19'], [10.25, '08'], [10.08695652173913, '05'], [9.41095890410959, '12'], [9.022727272727273, '06'], [8.127272727272727, '00'], [7.985294117647059, '23'], [7.852941176470588, '07'], [7.796296296296297, '03'], [7.170212765957447, '04'], [6.746478873239437, '22'], [5.5777777777777775, '09']]\n"
     ]
    }
   ],
   "source": [
    "swap_avg_by_hour = []\n",
    "for each in avg_by_hour:\n",
    "    swap_avg_by_hour.append([each[1],each[0]])\n",
    "\n",
    "sorted_swap = sorted(swap_avg_by_hour,reverse = True)\n",
    "\n",
    "print(sorted_swap)"
   ]
  },
  {
   "cell_type": "code",
   "execution_count": 10,
   "metadata": {
    "collapsed": false
   },
   "outputs": [
    {
     "name": "stdout",
     "output_type": "stream",
     "text": [
      "Top 5 Hours for Ask Posts Comments\n"
     ]
    }
   ],
   "source": [
    "print(\"Top 5 Hours for Ask Posts Comments\")"
   ]
  },
  {
   "cell_type": "code",
   "execution_count": 11,
   "metadata": {
    "collapsed": false
   },
   "outputs": [
    {
     "name": "stdout",
     "output_type": "stream",
     "text": [
      "15:00  : 38.59 average comments per post\n",
      "02:00  : 23.81 average comments per post\n",
      "20:00  : 21.52 average comments per post\n",
      "16:00  : 16.80 average comments per post\n",
      "21:00  : 16.01 average comments per post\n"
     ]
    }
   ],
   "source": [
    "for each in sorted_swap[:5]:\n",
    "    dt_obj = dt.datetime.strptime(each[1],\"%H\")\n",
    "    dt_obj_string = dt_obj.strftime(\"%H:%M\")\n",
    "    string = \"{0}  : {1:.2f} average comments per post\"\n",
    "    string = string.format(dt_obj_string,each[0])\n",
    "    print(string)"
   ]
  },
  {
   "cell_type": "markdown",
   "metadata": {
    "collapsed": true
   },
   "source": [
    "- From the above printed data, it is observed that Ask HN posts written around the time 3-4 PM get maximum number of comments and are more likely to be noticed."
   ]
  }
 ],
 "metadata": {
  "kernelspec": {
   "display_name": "Python 3",
   "language": "python",
   "name": "python3"
  },
  "language_info": {
   "codemirror_mode": {
    "name": "ipython",
    "version": 3
   },
   "file_extension": ".py",
   "mimetype": "text/x-python",
   "name": "python",
   "nbconvert_exporter": "python",
   "pygments_lexer": "ipython3",
   "version": "3.4.3"
  }
 },
 "nbformat": 4,
 "nbformat_minor": 2
}
